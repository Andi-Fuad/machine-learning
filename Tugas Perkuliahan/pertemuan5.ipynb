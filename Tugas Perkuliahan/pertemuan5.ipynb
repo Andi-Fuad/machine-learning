{
 "cells": [
  {
   "cell_type": "code",
   "execution_count": 1,
   "id": "8e0875d7-feaa-4327-8745-369b33d590d2",
   "metadata": {},
   "outputs": [],
   "source": [
    "import pandas as pd\n",
    "import numpy as np\n",
    "import matplotlib.pyplot as plt"
   ]
  },
  {
   "cell_type": "code",
   "execution_count": 2,
   "id": "261ef629-d51b-4e31-b43c-52b3334e555a",
   "metadata": {},
   "outputs": [
    {
     "data": {
      "text/html": [
       "<div>\n",
       "<style scoped>\n",
       "    .dataframe tbody tr th:only-of-type {\n",
       "        vertical-align: middle;\n",
       "    }\n",
       "\n",
       "    .dataframe tbody tr th {\n",
       "        vertical-align: top;\n",
       "    }\n",
       "\n",
       "    .dataframe thead th {\n",
       "        text-align: right;\n",
       "    }\n",
       "</style>\n",
       "<table border=\"1\" class=\"dataframe\">\n",
       "  <thead>\n",
       "    <tr style=\"text-align: right;\">\n",
       "      <th></th>\n",
       "      <th>ID</th>\n",
       "      <th>mesin</th>\n",
       "      <th>bangku</th>\n",
       "      <th>penggerak</th>\n",
       "      <th>label</th>\n",
       "    </tr>\n",
       "  </thead>\n",
       "  <tbody>\n",
       "    <tr>\n",
       "      <th>0</th>\n",
       "      <td>1</td>\n",
       "      <td>bensin</td>\n",
       "      <td>4</td>\n",
       "      <td>depan</td>\n",
       "      <td>sedan</td>\n",
       "    </tr>\n",
       "    <tr>\n",
       "      <th>1</th>\n",
       "      <td>2</td>\n",
       "      <td>bensin</td>\n",
       "      <td>2</td>\n",
       "      <td>depan</td>\n",
       "      <td>sedan</td>\n",
       "    </tr>\n",
       "    <tr>\n",
       "      <th>2</th>\n",
       "      <td>3</td>\n",
       "      <td>bensin</td>\n",
       "      <td>8</td>\n",
       "      <td>belakang</td>\n",
       "      <td>minibus</td>\n",
       "    </tr>\n",
       "    <tr>\n",
       "      <th>3</th>\n",
       "      <td>4</td>\n",
       "      <td>diesel</td>\n",
       "      <td>6</td>\n",
       "      <td>depan</td>\n",
       "      <td>minibus</td>\n",
       "    </tr>\n",
       "    <tr>\n",
       "      <th>4</th>\n",
       "      <td>5</td>\n",
       "      <td>bensin</td>\n",
       "      <td>5</td>\n",
       "      <td>belakang</td>\n",
       "      <td>minibus</td>\n",
       "    </tr>\n",
       "  </tbody>\n",
       "</table>\n",
       "</div>"
      ],
      "text/plain": [
       "   ID   mesin  bangku penggerak    label\n",
       "0   1  bensin       4     depan    sedan\n",
       "1   2  bensin       2     depan    sedan\n",
       "2   3  bensin       8  belakang  minibus\n",
       "3   4  diesel       6     depan  minibus\n",
       "4   5  bensin       5  belakang  minibus"
      ]
     },
     "execution_count": 2,
     "metadata": {},
     "output_type": "execute_result"
    }
   ],
   "source": [
    "data = pd.read_csv('decisiontree_ch6.csv')\n",
    "data.head()"
   ]
  },
  {
   "cell_type": "code",
   "execution_count": 3,
   "id": "a3212e22-be0c-4b9b-9420-896abf5e0d7f",
   "metadata": {},
   "outputs": [],
   "source": [
    "encoding = {'mesin':{'bensin':0,'diesel':1}, \n",
    "            'penggerak':{'depan':0, 'belakang':1}}\n",
    "data.replace(encoding, inplace=True)"
   ]
  },
  {
   "cell_type": "code",
   "execution_count": 4,
   "id": "5b1e4eca-1879-469f-b254-3ac4062be82e",
   "metadata": {},
   "outputs": [
    {
     "data": {
      "text/html": [
       "<div>\n",
       "<style scoped>\n",
       "    .dataframe tbody tr th:only-of-type {\n",
       "        vertical-align: middle;\n",
       "    }\n",
       "\n",
       "    .dataframe tbody tr th {\n",
       "        vertical-align: top;\n",
       "    }\n",
       "\n",
       "    .dataframe thead th {\n",
       "        text-align: right;\n",
       "    }\n",
       "</style>\n",
       "<table border=\"1\" class=\"dataframe\">\n",
       "  <thead>\n",
       "    <tr style=\"text-align: right;\">\n",
       "      <th></th>\n",
       "      <th>ID</th>\n",
       "      <th>mesin</th>\n",
       "      <th>bangku</th>\n",
       "      <th>penggerak</th>\n",
       "      <th>label</th>\n",
       "    </tr>\n",
       "  </thead>\n",
       "  <tbody>\n",
       "    <tr>\n",
       "      <th>0</th>\n",
       "      <td>1</td>\n",
       "      <td>0</td>\n",
       "      <td>4</td>\n",
       "      <td>0</td>\n",
       "      <td>sedan</td>\n",
       "    </tr>\n",
       "    <tr>\n",
       "      <th>1</th>\n",
       "      <td>2</td>\n",
       "      <td>0</td>\n",
       "      <td>2</td>\n",
       "      <td>0</td>\n",
       "      <td>sedan</td>\n",
       "    </tr>\n",
       "    <tr>\n",
       "      <th>2</th>\n",
       "      <td>3</td>\n",
       "      <td>0</td>\n",
       "      <td>8</td>\n",
       "      <td>1</td>\n",
       "      <td>minibus</td>\n",
       "    </tr>\n",
       "    <tr>\n",
       "      <th>3</th>\n",
       "      <td>4</td>\n",
       "      <td>1</td>\n",
       "      <td>6</td>\n",
       "      <td>0</td>\n",
       "      <td>minibus</td>\n",
       "    </tr>\n",
       "    <tr>\n",
       "      <th>4</th>\n",
       "      <td>5</td>\n",
       "      <td>0</td>\n",
       "      <td>5</td>\n",
       "      <td>1</td>\n",
       "      <td>minibus</td>\n",
       "    </tr>\n",
       "  </tbody>\n",
       "</table>\n",
       "</div>"
      ],
      "text/plain": [
       "   ID  mesin  bangku  penggerak    label\n",
       "0   1      0       4          0    sedan\n",
       "1   2      0       2          0    sedan\n",
       "2   3      0       8          1  minibus\n",
       "3   4      1       6          0  minibus\n",
       "4   5      0       5          1  minibus"
      ]
     },
     "execution_count": 4,
     "metadata": {},
     "output_type": "execute_result"
    }
   ],
   "source": [
    "data.head()"
   ]
  },
  {
   "cell_type": "code",
   "execution_count": 5,
   "id": "3fcefcf1-0309-4a87-a55c-5fcf2cd1801a",
   "metadata": {},
   "outputs": [],
   "source": [
    "x = data.drop(['ID', 'label'], axis=1)\n",
    "y = data['label']"
   ]
  },
  {
   "cell_type": "code",
   "execution_count": 6,
   "id": "d421019c-296e-4aaf-9cf1-f1cf5de5b950",
   "metadata": {},
   "outputs": [],
   "source": [
    "import sklearn.model_selection as ms\n",
    "x_train, x_test, y_train, y_test = ms.train_test_split(x,y, test_size=0.2, random_state=10)"
   ]
  },
  {
   "cell_type": "code",
   "execution_count": 7,
   "id": "0c75b2a7-07b8-49cb-b393-83d098ce0bcf",
   "metadata": {},
   "outputs": [
    {
     "data": {
      "text/plain": [
       "DecisionTreeClassifier(criterion='entropy', max_depth=5)"
      ]
     },
     "execution_count": 7,
     "metadata": {},
     "output_type": "execute_result"
    }
   ],
   "source": [
    "import sklearn.tree as tree\n",
    "model1 = tree.DecisionTreeClassifier(criterion='entropy', max_depth=5)\n",
    "model1.fit(x_train, y_train)"
   ]
  },
  {
   "cell_type": "code",
   "execution_count": 8,
   "id": "0135e912-6586-402d-a172-31bae87c174e",
   "metadata": {},
   "outputs": [
    {
     "data": {
      "text/plain": [
       "array(['minibus', 'sedan', 'minibus', 'sedan', 'sedan', 'sedan', 'sedan',\n",
       "       'minibus'], dtype=object)"
      ]
     },
     "execution_count": 8,
     "metadata": {},
     "output_type": "execute_result"
    }
   ],
   "source": [
    "y_predict = model1.predict(x_test)\n",
    "y_predict"
   ]
  },
  {
   "cell_type": "code",
   "execution_count": 9,
   "id": "9ea891ef-91e9-46f4-8488-70c090945e69",
   "metadata": {},
   "outputs": [
    {
     "data": {
      "text/plain": [
       "2     minibus\n",
       "27      sedan\n",
       "35    minibus\n",
       "30      sedan\n",
       "14      sedan\n",
       "13      sedan\n",
       "7       sedan\n",
       "24    minibus\n",
       "Name: label, dtype: object"
      ]
     },
     "execution_count": 9,
     "metadata": {},
     "output_type": "execute_result"
    }
   ],
   "source": [
    "y_test"
   ]
  },
  {
   "cell_type": "code",
   "execution_count": 10,
   "id": "3533d4f3-7ca3-4e90-9a87-07735f92dd76",
   "metadata": {},
   "outputs": [
    {
     "name": "stdout",
     "output_type": "stream",
     "text": [
      "1.0\n"
     ]
    }
   ],
   "source": [
    "import sklearn.metrics as met\n",
    "print(met.accuracy_score(y_test,y_predict))"
   ]
  },
  {
   "cell_type": "code",
   "execution_count": 11,
   "id": "a440223c-940a-4cfe-9282-7400799b2f6d",
   "metadata": {},
   "outputs": [
    {
     "data": {
      "text/plain": [
       "DecisionTreeClassifier(max_depth=5)"
      ]
     },
     "execution_count": 11,
     "metadata": {},
     "output_type": "execute_result"
    }
   ],
   "source": [
    "model2 = tree.DecisionTreeClassifier(criterion='gini', max_depth=5)\n",
    "model2.fit(x_train, y_train)"
   ]
  },
  {
   "cell_type": "code",
   "execution_count": 12,
   "id": "52e0b78e-db56-423c-a918-6dfc5f8a39ba",
   "metadata": {},
   "outputs": [
    {
     "data": {
      "text/plain": [
       "array(['minibus', 'sedan', 'minibus', 'sedan', 'minibus', 'sedan',\n",
       "       'sedan', 'minibus'], dtype=object)"
      ]
     },
     "execution_count": 12,
     "metadata": {},
     "output_type": "execute_result"
    }
   ],
   "source": [
    "y_predict2 = model2.predict(x_test)\n",
    "y_predict2"
   ]
  },
  {
   "cell_type": "code",
   "execution_count": 13,
   "id": "7b8bc99d-867b-4814-a0b8-22dcd619d9af",
   "metadata": {},
   "outputs": [
    {
     "name": "stdout",
     "output_type": "stream",
     "text": [
      "0.875\n"
     ]
    }
   ],
   "source": [
    "print(met.accuracy_score(y_test, y_predict2))"
   ]
  },
  {
   "cell_type": "code",
   "execution_count": 16,
   "id": "dcef5700-12db-4c3f-bf0b-4fa37576ed22",
   "metadata": {},
   "outputs": [],
   "source": [
    "import os\n",
    "os.environ['PATH'] = os.environ['PATH']+';'+os.environ['CONDA_PREFIX']+r\"\\Library\\bin\\graphviz\""
   ]
  },
  {
   "cell_type": "code",
   "execution_count": 17,
   "id": "2f27e882-5a7d-4286-b91b-873a69b15acb",
   "metadata": {},
   "outputs": [
    {
     "data": {
      "text/plain": [
       "True"
      ]
     },
     "execution_count": 17,
     "metadata": {},
     "output_type": "execute_result"
    }
   ],
   "source": [
    "import pydotplus as pp\n",
    "labels = ['mesin', 'bangku', 'penggerak']\n",
    "dot_data = tree.export_graphviz(model1, out_file=None, feature_names=labels, filled=True, rounded=True)\n",
    "graph = pp.graph_from_dot_data(dot_data)\n",
    "graph.write_png('decisiontree.png')"
   ]
  },
  {
   "cell_type": "code",
   "execution_count": null,
   "id": "f27b1a2e-e41a-4cdf-a33b-a69fcd785694",
   "metadata": {},
   "outputs": [],
   "source": []
  }
 ],
 "metadata": {
  "kernelspec": {
   "display_name": "Python 3 (ipykernel)",
   "language": "python",
   "name": "python3"
  },
  "language_info": {
   "codemirror_mode": {
    "name": "ipython",
    "version": 3
   },
   "file_extension": ".py",
   "mimetype": "text/x-python",
   "name": "python",
   "nbconvert_exporter": "python",
   "pygments_lexer": "ipython3",
   "version": "3.9.12"
  }
 },
 "nbformat": 4,
 "nbformat_minor": 5
}
