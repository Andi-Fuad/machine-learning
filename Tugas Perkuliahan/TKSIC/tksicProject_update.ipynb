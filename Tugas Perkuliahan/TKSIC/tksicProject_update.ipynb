{
 "cells": [
  {
   "cell_type": "markdown",
   "id": "13914007-a995-4f5d-a8e0-2ee1f2247482",
   "metadata": {
    "tags": []
   },
   "source": [
    "# Train Pre-processing"
   ]
  },
  {
   "cell_type": "code",
   "execution_count": 1,
   "id": "729307b7-376a-47ab-8e05-082d952d2abc",
   "metadata": {},
   "outputs": [],
   "source": [
    "import pandas as pd\n",
    "import numpy as np\n",
    "import matplotlib.pyplot as plt\n",
    "import seaborn as sns"
   ]
  },
  {
   "cell_type": "code",
   "execution_count": 27,
   "id": "59483918-d560-479e-84c8-249ad4622c23",
   "metadata": {},
   "outputs": [
    {
     "data": {
      "text/html": [
       "<div>\n",
       "<style scoped>\n",
       "    .dataframe tbody tr th:only-of-type {\n",
       "        vertical-align: middle;\n",
       "    }\n",
       "\n",
       "    .dataframe tbody tr th {\n",
       "        vertical-align: top;\n",
       "    }\n",
       "\n",
       "    .dataframe thead th {\n",
       "        text-align: right;\n",
       "    }\n",
       "</style>\n",
       "<table border=\"1\" class=\"dataframe\">\n",
       "  <thead>\n",
       "    <tr style=\"text-align: right;\">\n",
       "      <th></th>\n",
       "      <th>id</th>\n",
       "      <th>Umur</th>\n",
       "      <th>Kelas Pekerja</th>\n",
       "      <th>Berat Akhir</th>\n",
       "      <th>Pendidikan</th>\n",
       "      <th>Jmlh Tahun Pendidikan</th>\n",
       "      <th>Status Perkawinan</th>\n",
       "      <th>Pekerjaan</th>\n",
       "      <th>Jenis Kelamin</th>\n",
       "      <th>Keuntungan Kapital</th>\n",
       "      <th>Kerugian Capital</th>\n",
       "      <th>Jam per Minggu</th>\n",
       "      <th>Gaji</th>\n",
       "    </tr>\n",
       "  </thead>\n",
       "  <tbody>\n",
       "    <tr>\n",
       "      <th>0</th>\n",
       "      <td>0</td>\n",
       "      <td>21</td>\n",
       "      <td>Wiraswasta</td>\n",
       "      <td>242912</td>\n",
       "      <td>SMA</td>\n",
       "      <td>9</td>\n",
       "      <td>Belum Pernah Menikah</td>\n",
       "      <td>Servis Lainnya</td>\n",
       "      <td>Perempuan</td>\n",
       "      <td>0.0</td>\n",
       "      <td>0.0</td>\n",
       "      <td>35.0</td>\n",
       "      <td>&lt;=7jt</td>\n",
       "    </tr>\n",
       "    <tr>\n",
       "      <th>1</th>\n",
       "      <td>1</td>\n",
       "      <td>49</td>\n",
       "      <td>Wiraswasta</td>\n",
       "      <td>140782</td>\n",
       "      <td>10th</td>\n",
       "      <td>6</td>\n",
       "      <td>Cerai</td>\n",
       "      <td>Ekesekutif Managerial</td>\n",
       "      <td>Perempuan</td>\n",
       "      <td>0.0</td>\n",
       "      <td>0.0</td>\n",
       "      <td>40.0</td>\n",
       "      <td>&lt;=7jt</td>\n",
       "    </tr>\n",
       "    <tr>\n",
       "      <th>2</th>\n",
       "      <td>2</td>\n",
       "      <td>44</td>\n",
       "      <td>Wiraswasta</td>\n",
       "      <td>120057</td>\n",
       "      <td>D3</td>\n",
       "      <td>12</td>\n",
       "      <td>Menikah</td>\n",
       "      <td>Ekesekutif Managerial</td>\n",
       "      <td>Laki2</td>\n",
       "      <td>61404000.0</td>\n",
       "      <td>0.0</td>\n",
       "      <td>45.0</td>\n",
       "      <td>&gt;7jt</td>\n",
       "    </tr>\n",
       "    <tr>\n",
       "      <th>3</th>\n",
       "      <td>3</td>\n",
       "      <td>24</td>\n",
       "      <td>Wiraswasta</td>\n",
       "      <td>194630</td>\n",
       "      <td>Sarjana</td>\n",
       "      <td>13</td>\n",
       "      <td>Belum Pernah Menikah</td>\n",
       "      <td>Spesialis</td>\n",
       "      <td>Laki2</td>\n",
       "      <td>0.0</td>\n",
       "      <td>0.0</td>\n",
       "      <td>35.0</td>\n",
       "      <td>&lt;=7jt</td>\n",
       "    </tr>\n",
       "    <tr>\n",
       "      <th>4</th>\n",
       "      <td>4</td>\n",
       "      <td>33</td>\n",
       "      <td>Wiraswasta</td>\n",
       "      <td>219619</td>\n",
       "      <td>Master</td>\n",
       "      <td>14</td>\n",
       "      <td>Menikah</td>\n",
       "      <td>Spesialis</td>\n",
       "      <td>Laki2</td>\n",
       "      <td>210336000.0</td>\n",
       "      <td>0.0</td>\n",
       "      <td>40.0</td>\n",
       "      <td>&gt;7jt</td>\n",
       "    </tr>\n",
       "    <tr>\n",
       "      <th>5</th>\n",
       "      <td>5</td>\n",
       "      <td>31</td>\n",
       "      <td>Wiraswasta</td>\n",
       "      <td>331065</td>\n",
       "      <td>Sarjana</td>\n",
       "      <td>13</td>\n",
       "      <td>Belum Pernah Menikah</td>\n",
       "      <td>Ekesekutif Managerial</td>\n",
       "      <td>Perempuan</td>\n",
       "      <td>0.0</td>\n",
       "      <td>19712000.0</td>\n",
       "      <td>40.0</td>\n",
       "      <td>&lt;=7jt</td>\n",
       "    </tr>\n",
       "    <tr>\n",
       "      <th>6</th>\n",
       "      <td>6</td>\n",
       "      <td>32</td>\n",
       "      <td>Wiraswasta</td>\n",
       "      <td>111520</td>\n",
       "      <td>Pendidikan Tinggi</td>\n",
       "      <td>10</td>\n",
       "      <td>Belum Pernah Menikah</td>\n",
       "      <td>Servis Lainnya</td>\n",
       "      <td>Laki2</td>\n",
       "      <td>0.0</td>\n",
       "      <td>0.0</td>\n",
       "      <td>34.0</td>\n",
       "      <td>&lt;=7jt</td>\n",
       "    </tr>\n",
       "    <tr>\n",
       "      <th>7</th>\n",
       "      <td>7</td>\n",
       "      <td>20</td>\n",
       "      <td>Wiraswasta</td>\n",
       "      <td>115057</td>\n",
       "      <td>SMA</td>\n",
       "      <td>9</td>\n",
       "      <td>Belum Pernah Menikah</td>\n",
       "      <td>Perbaikan Kerajinan</td>\n",
       "      <td>Laki2</td>\n",
       "      <td>0.0</td>\n",
       "      <td>0.0</td>\n",
       "      <td>40.0</td>\n",
       "      <td>&lt;=7jt</td>\n",
       "    </tr>\n",
       "    <tr>\n",
       "      <th>8</th>\n",
       "      <td>8</td>\n",
       "      <td>23</td>\n",
       "      <td>?</td>\n",
       "      <td>191910</td>\n",
       "      <td>Pendidikan Tinggi</td>\n",
       "      <td>10</td>\n",
       "      <td>Belum Pernah Menikah</td>\n",
       "      <td>?</td>\n",
       "      <td>Laki2</td>\n",
       "      <td>0.0</td>\n",
       "      <td>0.0</td>\n",
       "      <td>40.0</td>\n",
       "      <td>&lt;=7jt</td>\n",
       "    </tr>\n",
       "    <tr>\n",
       "      <th>9</th>\n",
       "      <td>9</td>\n",
       "      <td>43</td>\n",
       "      <td>Wiraswasta</td>\n",
       "      <td>134120</td>\n",
       "      <td>SMA</td>\n",
       "      <td>9</td>\n",
       "      <td>Cerai</td>\n",
       "      <td>Sales</td>\n",
       "      <td>Perempuan</td>\n",
       "      <td>0.0</td>\n",
       "      <td>0.0</td>\n",
       "      <td>46.0</td>\n",
       "      <td>&lt;=7jt</td>\n",
       "    </tr>\n",
       "  </tbody>\n",
       "</table>\n",
       "</div>"
      ],
      "text/plain": [
       "   id  Umur Kelas Pekerja  Berat Akhir         Pendidikan  \\\n",
       "0   0    21    Wiraswasta       242912                SMA   \n",
       "1   1    49    Wiraswasta       140782               10th   \n",
       "2   2    44    Wiraswasta       120057                 D3   \n",
       "3   3    24    Wiraswasta       194630            Sarjana   \n",
       "4   4    33    Wiraswasta       219619             Master   \n",
       "5   5    31    Wiraswasta       331065            Sarjana   \n",
       "6   6    32    Wiraswasta       111520  Pendidikan Tinggi   \n",
       "7   7    20    Wiraswasta       115057                SMA   \n",
       "8   8    23             ?       191910  Pendidikan Tinggi   \n",
       "9   9    43    Wiraswasta       134120                SMA   \n",
       "\n",
       "   Jmlh Tahun Pendidikan     Status Perkawinan              Pekerjaan  \\\n",
       "0                      9  Belum Pernah Menikah         Servis Lainnya   \n",
       "1                      6                 Cerai  Ekesekutif Managerial   \n",
       "2                     12               Menikah  Ekesekutif Managerial   \n",
       "3                     13  Belum Pernah Menikah              Spesialis   \n",
       "4                     14               Menikah              Spesialis   \n",
       "5                     13  Belum Pernah Menikah  Ekesekutif Managerial   \n",
       "6                     10  Belum Pernah Menikah         Servis Lainnya   \n",
       "7                      9  Belum Pernah Menikah    Perbaikan Kerajinan   \n",
       "8                     10  Belum Pernah Menikah                      ?   \n",
       "9                      9                 Cerai                  Sales   \n",
       "\n",
       "  Jenis Kelamin  Keuntungan Kapital  Kerugian Capital  Jam per Minggu   Gaji  \n",
       "0     Perempuan                 0.0               0.0            35.0  <=7jt  \n",
       "1     Perempuan                 0.0               0.0            40.0  <=7jt  \n",
       "2         Laki2          61404000.0               0.0            45.0   >7jt  \n",
       "3         Laki2                 0.0               0.0            35.0  <=7jt  \n",
       "4         Laki2         210336000.0               0.0            40.0   >7jt  \n",
       "5     Perempuan                 0.0        19712000.0            40.0  <=7jt  \n",
       "6         Laki2                 0.0               0.0            34.0  <=7jt  \n",
       "7         Laki2                 0.0               0.0            40.0  <=7jt  \n",
       "8         Laki2                 0.0               0.0            40.0  <=7jt  \n",
       "9     Perempuan                 0.0               0.0            46.0  <=7jt  "
      ]
     },
     "execution_count": 27,
     "metadata": {},
     "output_type": "execute_result"
    }
   ],
   "source": [
    "df = pd.read_csv(\"train.csv\")\n",
    "df.head(10)"
   ]
  },
  {
   "cell_type": "code",
   "execution_count": 28,
   "id": "0897a480-0e22-4ab2-a106-530bbadc3256",
   "metadata": {},
   "outputs": [
    {
     "name": "stdout",
     "output_type": "stream",
     "text": [
      "<class 'pandas.core.frame.DataFrame'>\n",
      "RangeIndex: 35994 entries, 0 to 35993\n",
      "Data columns (total 13 columns):\n",
      " #   Column                 Non-Null Count  Dtype  \n",
      "---  ------                 --------------  -----  \n",
      " 0   id                     35994 non-null  int64  \n",
      " 1   Umur                   35994 non-null  int64  \n",
      " 2   Kelas Pekerja          35994 non-null  object \n",
      " 3   Berat Akhir            35994 non-null  int64  \n",
      " 4   Pendidikan             35994 non-null  object \n",
      " 5   Jmlh Tahun Pendidikan  35994 non-null  int64  \n",
      " 6   Status Perkawinan      35994 non-null  object \n",
      " 7   Pekerjaan              35994 non-null  object \n",
      " 8   Jenis Kelamin          35994 non-null  object \n",
      " 9   Keuntungan Kapital     35994 non-null  float64\n",
      " 10  Kerugian Capital       35994 non-null  float64\n",
      " 11  Jam per Minggu         35994 non-null  float64\n",
      " 12  Gaji                   35994 non-null  object \n",
      "dtypes: float64(3), int64(4), object(6)\n",
      "memory usage: 3.6+ MB\n"
     ]
    }
   ],
   "source": [
    "df.info()"
   ]
  },
  {
   "cell_type": "code",
   "execution_count": 29,
   "id": "a615abc7-f1b5-4eb8-9f2a-a863c73aec67",
   "metadata": {},
   "outputs": [],
   "source": [
    "df.columns = df.columns.str.replace(' ','_')"
   ]
  },
  {
   "cell_type": "code",
   "execution_count": 30,
   "id": "4ab3cc3a-0993-48e4-8fb3-bc330bee4974",
   "metadata": {},
   "outputs": [
    {
     "data": {
      "text/plain": [
       "id                          0\n",
       "Umur                        0\n",
       "Kelas_Pekerja            2063\n",
       "Berat_Akhir                 0\n",
       "Pendidikan                  0\n",
       "Jmlh_Tahun_Pendidikan       0\n",
       "Status_Perkawinan           0\n",
       "Pekerjaan                2069\n",
       "Jenis_Kelamin               0\n",
       "Keuntungan_Kapital          0\n",
       "Kerugian_Capital            0\n",
       "Jam_per_Minggu              0\n",
       "Gaji                        0\n",
       "dtype: int64"
      ]
     },
     "execution_count": 30,
     "metadata": {},
     "output_type": "execute_result"
    }
   ],
   "source": [
    "df.isin({'?'}).sum()"
   ]
  },
  {
   "cell_type": "code",
   "execution_count": 31,
   "id": "bdc49346-78d0-4313-b1cc-c13e56d0bcf3",
   "metadata": {},
   "outputs": [],
   "source": [
    "df = df[df.Kelas_Pekerja != '?']\n",
    "df = df[df.Pekerjaan != '?']"
   ]
  },
  {
   "cell_type": "code",
   "execution_count": 32,
   "id": "a89256c7-176f-4a52-be34-4376c28f462f",
   "metadata": {},
   "outputs": [
    {
     "data": {
      "text/plain": [
       "SMA                     11058\n",
       "Pendidikan Tinggi        7384\n",
       "Sarjana                  5737\n",
       "Master                   1900\n",
       "D4                       1447\n",
       "11th                     1187\n",
       "D3                       1121\n",
       "10th                      907\n",
       "Sekolah Professional      604\n",
       "7th-8th                   601\n",
       "9th                       524\n",
       "Doktor                    439\n",
       "12th                      436\n",
       "5th-6th                   357\n",
       "1st-4th                   170\n",
       "SD                         53\n",
       "Name: Pendidikan, dtype: int64"
      ]
     },
     "execution_count": 32,
     "metadata": {},
     "output_type": "execute_result"
    }
   ],
   "source": [
    "df['Pendidikan'].value_counts()"
   ]
  },
  {
   "cell_type": "code",
   "execution_count": 33,
   "id": "1229376d-f7ee-4e7e-b307-928d9d1f382d",
   "metadata": {},
   "outputs": [],
   "source": [
    "df['Pendidikan'] = df['Pendidikan'].replace(['1st-4th', '5th-6th'], 'SD')\n",
    "df['Pendidikan'] = df['Pendidikan'].replace(['7th-8th', '9th'], 'SMP')\n",
    "df['Pendidikan'] = df['Pendidikan'].replace(['10th', '11th', '12th'], 'SMA')"
   ]
  },
  {
   "cell_type": "code",
   "execution_count": 34,
   "id": "da793b28-083f-42cf-b8c9-0daf1454fdaa",
   "metadata": {},
   "outputs": [
    {
     "data": {
      "text/plain": [
       "SMA                     13588\n",
       "Pendidikan Tinggi        7384\n",
       "Sarjana                  5737\n",
       "Master                   1900\n",
       "D4                       1447\n",
       "SMP                      1125\n",
       "D3                       1121\n",
       "Sekolah Professional      604\n",
       "SD                        580\n",
       "Doktor                    439\n",
       "Name: Pendidikan, dtype: int64"
      ]
     },
     "execution_count": 34,
     "metadata": {},
     "output_type": "execute_result"
    }
   ],
   "source": [
    "df['Pendidikan'].value_counts()"
   ]
  },
  {
   "cell_type": "code",
   "execution_count": 35,
   "id": "d7347408-c336-4dab-90ec-f93844c2eed6",
   "metadata": {},
   "outputs": [
    {
     "data": {
      "text/plain": [
       "Menikah                 15863\n",
       "Belum Pernah Menikah    10936\n",
       "Cerai                    4663\n",
       "Berpisah                 1063\n",
       "Janda                     945\n",
       "Menikah LDR               455\n",
       "Name: Status_Perkawinan, dtype: int64"
      ]
     },
     "execution_count": 35,
     "metadata": {},
     "output_type": "execute_result"
    }
   ],
   "source": [
    "df['Status_Perkawinan'].value_counts()"
   ]
  },
  {
   "cell_type": "code",
   "execution_count": 36,
   "id": "3b65ec6b-7343-4104-9b60-dcf9a6cf16f8",
   "metadata": {},
   "outputs": [],
   "source": [
    "df['Status_Perkawinan'] = df['Status_Perkawinan'].replace(['Berpisah', 'Janda'], 'Cerai')\n",
    "df['Status_Perkawinan'] = df['Status_Perkawinan'].replace(['Menikah LDR'], 'Menikah')"
   ]
  },
  {
   "cell_type": "code",
   "execution_count": 37,
   "id": "d8c89f5c-87cc-4a7d-83fc-be4144c1618a",
   "metadata": {},
   "outputs": [
    {
     "data": {
      "text/plain": [
       "Menikah                 16318\n",
       "Belum Pernah Menikah    10936\n",
       "Cerai                    6671\n",
       "Name: Status_Perkawinan, dtype: int64"
      ]
     },
     "execution_count": 37,
     "metadata": {},
     "output_type": "execute_result"
    }
   ],
   "source": [
    "df['Status_Perkawinan'].value_counts()"
   ]
  },
  {
   "cell_type": "code",
   "execution_count": 38,
   "id": "44ddf9a3-46ea-47d9-b8dc-2bb7bb997f4c",
   "metadata": {},
   "outputs": [],
   "source": [
    "df = df.drop(['id', 'Jmlh_Tahun_Pendidikan', 'Berat_Akhir'], axis=1)"
   ]
  },
  {
   "cell_type": "code",
   "execution_count": 39,
   "id": "e8571be9-4947-4ab6-a8bd-80a9cc7ca050",
   "metadata": {},
   "outputs": [
    {
     "data": {
      "text/plain": [
       "['Kelas_Pekerja',\n",
       " 'Pendidikan',\n",
       " 'Status_Perkawinan',\n",
       " 'Pekerjaan',\n",
       " 'Jenis_Kelamin',\n",
       " 'Gaji']"
      ]
     },
     "execution_count": 39,
     "metadata": {},
     "output_type": "execute_result"
    }
   ],
   "source": [
    "cat_columns = df.columns[(df.dtypes =='object').values].tolist()\n",
    "cat_columns"
   ]
  },
  {
   "cell_type": "code",
   "execution_count": 40,
   "id": "7d2a57fc-732e-4f9f-91de-d323045d23a6",
   "metadata": {},
   "outputs": [
    {
     "data": {
      "text/html": [
       "<div>\n",
       "<style scoped>\n",
       "    .dataframe tbody tr th:only-of-type {\n",
       "        vertical-align: middle;\n",
       "    }\n",
       "\n",
       "    .dataframe tbody tr th {\n",
       "        vertical-align: top;\n",
       "    }\n",
       "\n",
       "    .dataframe thead th {\n",
       "        text-align: right;\n",
       "    }\n",
       "</style>\n",
       "<table border=\"1\" class=\"dataframe\">\n",
       "  <thead>\n",
       "    <tr style=\"text-align: right;\">\n",
       "      <th></th>\n",
       "      <th>Umur</th>\n",
       "      <th>Kelas_Pekerja</th>\n",
       "      <th>Pendidikan</th>\n",
       "      <th>Status_Perkawinan</th>\n",
       "      <th>Pekerjaan</th>\n",
       "      <th>Jenis_Kelamin</th>\n",
       "      <th>Keuntungan_Kapital</th>\n",
       "      <th>Kerugian_Capital</th>\n",
       "      <th>Jam_per_Minggu</th>\n",
       "      <th>Gaji</th>\n",
       "    </tr>\n",
       "  </thead>\n",
       "  <tbody>\n",
       "    <tr>\n",
       "      <th>0</th>\n",
       "      <td>21</td>\n",
       "      <td>6</td>\n",
       "      <td>6</td>\n",
       "      <td>0</td>\n",
       "      <td>9</td>\n",
       "      <td>1</td>\n",
       "      <td>0.0</td>\n",
       "      <td>0.0</td>\n",
       "      <td>35.0</td>\n",
       "      <td>0</td>\n",
       "    </tr>\n",
       "    <tr>\n",
       "      <th>1</th>\n",
       "      <td>49</td>\n",
       "      <td>6</td>\n",
       "      <td>6</td>\n",
       "      <td>1</td>\n",
       "      <td>1</td>\n",
       "      <td>1</td>\n",
       "      <td>0.0</td>\n",
       "      <td>0.0</td>\n",
       "      <td>40.0</td>\n",
       "      <td>0</td>\n",
       "    </tr>\n",
       "    <tr>\n",
       "      <th>2</th>\n",
       "      <td>44</td>\n",
       "      <td>6</td>\n",
       "      <td>0</td>\n",
       "      <td>2</td>\n",
       "      <td>1</td>\n",
       "      <td>0</td>\n",
       "      <td>61404000.0</td>\n",
       "      <td>0.0</td>\n",
       "      <td>45.0</td>\n",
       "      <td>1</td>\n",
       "    </tr>\n",
       "    <tr>\n",
       "      <th>3</th>\n",
       "      <td>24</td>\n",
       "      <td>6</td>\n",
       "      <td>8</td>\n",
       "      <td>0</td>\n",
       "      <td>10</td>\n",
       "      <td>0</td>\n",
       "      <td>0.0</td>\n",
       "      <td>0.0</td>\n",
       "      <td>35.0</td>\n",
       "      <td>0</td>\n",
       "    </tr>\n",
       "    <tr>\n",
       "      <th>4</th>\n",
       "      <td>33</td>\n",
       "      <td>6</td>\n",
       "      <td>3</td>\n",
       "      <td>2</td>\n",
       "      <td>10</td>\n",
       "      <td>0</td>\n",
       "      <td>210336000.0</td>\n",
       "      <td>0.0</td>\n",
       "      <td>40.0</td>\n",
       "      <td>1</td>\n",
       "    </tr>\n",
       "  </tbody>\n",
       "</table>\n",
       "</div>"
      ],
      "text/plain": [
       "   Umur  Kelas_Pekerja  Pendidikan  Status_Perkawinan  Pekerjaan  \\\n",
       "0    21              6           6                  0          9   \n",
       "1    49              6           6                  1          1   \n",
       "2    44              6           0                  2          1   \n",
       "3    24              6           8                  0         10   \n",
       "4    33              6           3                  2         10   \n",
       "\n",
       "   Jenis_Kelamin  Keuntungan_Kapital  Kerugian_Capital  Jam_per_Minggu  Gaji  \n",
       "0              1                 0.0               0.0            35.0     0  \n",
       "1              1                 0.0               0.0            40.0     0  \n",
       "2              0          61404000.0               0.0            45.0     1  \n",
       "3              0                 0.0               0.0            35.0     0  \n",
       "4              0         210336000.0               0.0            40.0     1  "
      ]
     },
     "execution_count": 40,
     "metadata": {},
     "output_type": "execute_result"
    }
   ],
   "source": [
    "from sklearn.preprocessing import LabelEncoder\n",
    "\n",
    "for col in cat_columns:\n",
    "        df[col] = LabelEncoder().fit_transform(df[col])\n",
    "df.head()  "
   ]
  },
  {
   "cell_type": "code",
   "execution_count": 50,
   "id": "f56f59d5-f85c-45fd-a260-97a681e4e086",
   "metadata": {},
   "outputs": [],
   "source": [
    "X= df.drop(['Gaji'], axis=1)\n",
    "y = df['Gaji']"
   ]
  },
  {
   "cell_type": "code",
   "execution_count": 44,
   "id": "f80a8b83-d2ea-460d-92ce-feac99d6a075",
   "metadata": {},
   "outputs": [],
   "source": [
    "from sklearn import preprocessing\n",
    "x_normal = preprocessing.normalize(X)"
   ]
  },
  {
   "cell_type": "code",
   "execution_count": 51,
   "id": "56751344-eef6-43b8-820f-57371bbd4ca7",
   "metadata": {},
   "outputs": [],
   "source": [
    "from sklearn.model_selection import train_test_split\n",
    "X_train, X_test, y_train, y_test = train_test_split(X, y, test_size=0.2, random_state=4)"
   ]
  },
  {
   "cell_type": "markdown",
   "id": "19e51389-e300-40e5-9b6f-0344763ed2a7",
   "metadata": {
    "tags": []
   },
   "source": [
    "# ML Model"
   ]
  },
  {
   "cell_type": "markdown",
   "id": "1f841710-a355-47aa-813c-9b8f1a63260c",
   "metadata": {},
   "source": [
    "## Random Forest Classifier"
   ]
  },
  {
   "cell_type": "code",
   "execution_count": 52,
   "id": "f3b629d4-a858-4425-a9d7-f186ea2e53ea",
   "metadata": {},
   "outputs": [
    {
     "data": {
      "text/plain": [
       "0.8431834929992631"
      ]
     },
     "execution_count": 52,
     "metadata": {},
     "output_type": "execute_result"
    }
   ],
   "source": [
    "from sklearn.ensemble import RandomForestClassifier\n",
    "\n",
    "rfclas = RandomForestClassifier()\n",
    "rfclas.fit(X_train, y_train)\n",
    "rfclas.score(X_test, y_test)"
   ]
  },
  {
   "cell_type": "markdown",
   "id": "ce62eef4-7f29-475c-9919-534105ff5ccb",
   "metadata": {},
   "source": [
    "## XGBoost"
   ]
  },
  {
   "cell_type": "code",
   "execution_count": 53,
   "id": "886f4696-7217-435b-865c-73b90daa8213",
   "metadata": {},
   "outputs": [
    {
     "data": {
      "text/plain": [
       "0.866617538688283"
      ]
     },
     "execution_count": 53,
     "metadata": {},
     "output_type": "execute_result"
    }
   ],
   "source": [
    "from xgboost import XGBClassifier\n",
    "XGB_model = XGBClassifier()\n",
    "XGB_model.fit(X_train, y_train)\n",
    "XGB_model.score(X_test, y_test)"
   ]
  },
  {
   "cell_type": "markdown",
   "id": "485b4bc7-d8d5-4989-bf88-9d0201a1e2f5",
   "metadata": {},
   "source": [
    "## CatBoost"
   ]
  },
  {
   "cell_type": "code",
   "execution_count": 54,
   "id": "cceded03-d220-4098-8c95-3d2c61a27efa",
   "metadata": {},
   "outputs": [
    {
     "data": {
      "text/plain": [
       "0.8672070744288872"
      ]
     },
     "execution_count": 54,
     "metadata": {},
     "output_type": "execute_result"
    }
   ],
   "source": [
    "from catboost import CatBoostClassifier\n",
    "\n",
    "ctb_model = CatBoostClassifier(verbose=0, n_estimators=400)\n",
    "\n",
    "ctb_model.fit(X_train, y_train)\n",
    "ctb_model.score(X_test, y_test)"
   ]
  },
  {
   "cell_type": "code",
   "execution_count": null,
   "id": "cf3d9bfe-c6c4-4e92-85c4-3ccc0045d26f",
   "metadata": {},
   "outputs": [],
   "source": []
  }
 ],
 "metadata": {
  "kernelspec": {
   "display_name": "Python 3 (ipykernel)",
   "language": "python",
   "name": "python3"
  },
  "language_info": {
   "codemirror_mode": {
    "name": "ipython",
    "version": 3
   },
   "file_extension": ".py",
   "mimetype": "text/x-python",
   "name": "python",
   "nbconvert_exporter": "python",
   "pygments_lexer": "ipython3",
   "version": "3.9.12"
  }
 },
 "nbformat": 4,
 "nbformat_minor": 5
}
