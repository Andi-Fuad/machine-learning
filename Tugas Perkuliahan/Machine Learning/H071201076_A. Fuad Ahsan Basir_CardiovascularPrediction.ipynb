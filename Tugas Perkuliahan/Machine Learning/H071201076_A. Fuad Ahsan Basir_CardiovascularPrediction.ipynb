{
 "cells": [
  {
   "cell_type": "markdown",
   "id": "b8d19a5b-2a83-45de-9f63-c6ffde2588fa",
   "metadata": {
    "tags": []
   },
   "source": [
    "## NAMA : A. Fuad Ahsan Basir\n",
    "## NIM : H071201076\n",
    "## Kelas : Machine Learning"
   ]
  },
  {
   "cell_type": "markdown",
   "id": "cc240446-fc8d-4ef6-9de4-60b44b5850d3",
   "metadata": {
    "tags": []
   },
   "source": [
    "# Pre-Processing"
   ]
  },
  {
   "cell_type": "code",
   "execution_count": 1,
   "id": "a3763585-0abe-409e-ab48-8001bcb2a773",
   "metadata": {},
   "outputs": [],
   "source": [
    "import pandas as pd\n",
    "import numpy as np\n",
    "import matplotlib.pyplot as plt\n",
    "import seaborn as sns\n",
    "sns.set()"
   ]
  },
  {
   "cell_type": "code",
   "execution_count": 2,
   "id": "ab02febd-6373-4fc9-9fa5-0ddccf88ac51",
   "metadata": {},
   "outputs": [
    {
     "data": {
      "text/html": [
       "<div>\n",
       "<style scoped>\n",
       "    .dataframe tbody tr th:only-of-type {\n",
       "        vertical-align: middle;\n",
       "    }\n",
       "\n",
       "    .dataframe tbody tr th {\n",
       "        vertical-align: top;\n",
       "    }\n",
       "\n",
       "    .dataframe thead th {\n",
       "        text-align: right;\n",
       "    }\n",
       "</style>\n",
       "<table border=\"1\" class=\"dataframe\">\n",
       "  <thead>\n",
       "    <tr style=\"text-align: right;\">\n",
       "      <th></th>\n",
       "      <th>id</th>\n",
       "      <th>age</th>\n",
       "      <th>education</th>\n",
       "      <th>sex</th>\n",
       "      <th>is_smoking</th>\n",
       "      <th>cigsPerDay</th>\n",
       "      <th>BPMeds</th>\n",
       "      <th>prevalentStroke</th>\n",
       "      <th>prevalentHyp</th>\n",
       "      <th>diabetes</th>\n",
       "      <th>totChol</th>\n",
       "      <th>sysBP</th>\n",
       "      <th>diaBP</th>\n",
       "      <th>BMI</th>\n",
       "      <th>heartRate</th>\n",
       "      <th>glucose</th>\n",
       "      <th>TenYearCHD</th>\n",
       "    </tr>\n",
       "  </thead>\n",
       "  <tbody>\n",
       "    <tr>\n",
       "      <th>0</th>\n",
       "      <td>0</td>\n",
       "      <td>64</td>\n",
       "      <td>2.0</td>\n",
       "      <td>F</td>\n",
       "      <td>YES</td>\n",
       "      <td>3.0</td>\n",
       "      <td>0.0</td>\n",
       "      <td>0</td>\n",
       "      <td>0</td>\n",
       "      <td>0</td>\n",
       "      <td>221.0</td>\n",
       "      <td>148.0</td>\n",
       "      <td>85.0</td>\n",
       "      <td>NaN</td>\n",
       "      <td>90.0</td>\n",
       "      <td>80.0</td>\n",
       "      <td>1</td>\n",
       "    </tr>\n",
       "    <tr>\n",
       "      <th>1</th>\n",
       "      <td>1</td>\n",
       "      <td>36</td>\n",
       "      <td>4.0</td>\n",
       "      <td>M</td>\n",
       "      <td>NO</td>\n",
       "      <td>0.0</td>\n",
       "      <td>0.0</td>\n",
       "      <td>0</td>\n",
       "      <td>1</td>\n",
       "      <td>0</td>\n",
       "      <td>212.0</td>\n",
       "      <td>168.0</td>\n",
       "      <td>98.0</td>\n",
       "      <td>29.77</td>\n",
       "      <td>72.0</td>\n",
       "      <td>75.0</td>\n",
       "      <td>0</td>\n",
       "    </tr>\n",
       "    <tr>\n",
       "      <th>2</th>\n",
       "      <td>2</td>\n",
       "      <td>46</td>\n",
       "      <td>1.0</td>\n",
       "      <td>F</td>\n",
       "      <td>YES</td>\n",
       "      <td>10.0</td>\n",
       "      <td>0.0</td>\n",
       "      <td>0</td>\n",
       "      <td>0</td>\n",
       "      <td>0</td>\n",
       "      <td>250.0</td>\n",
       "      <td>116.0</td>\n",
       "      <td>71.0</td>\n",
       "      <td>20.35</td>\n",
       "      <td>88.0</td>\n",
       "      <td>94.0</td>\n",
       "      <td>0</td>\n",
       "    </tr>\n",
       "    <tr>\n",
       "      <th>3</th>\n",
       "      <td>3</td>\n",
       "      <td>50</td>\n",
       "      <td>1.0</td>\n",
       "      <td>M</td>\n",
       "      <td>YES</td>\n",
       "      <td>20.0</td>\n",
       "      <td>0.0</td>\n",
       "      <td>0</td>\n",
       "      <td>1</td>\n",
       "      <td>0</td>\n",
       "      <td>233.0</td>\n",
       "      <td>158.0</td>\n",
       "      <td>88.0</td>\n",
       "      <td>28.26</td>\n",
       "      <td>68.0</td>\n",
       "      <td>94.0</td>\n",
       "      <td>1</td>\n",
       "    </tr>\n",
       "    <tr>\n",
       "      <th>4</th>\n",
       "      <td>4</td>\n",
       "      <td>64</td>\n",
       "      <td>1.0</td>\n",
       "      <td>F</td>\n",
       "      <td>YES</td>\n",
       "      <td>30.0</td>\n",
       "      <td>0.0</td>\n",
       "      <td>0</td>\n",
       "      <td>0</td>\n",
       "      <td>0</td>\n",
       "      <td>241.0</td>\n",
       "      <td>136.5</td>\n",
       "      <td>85.0</td>\n",
       "      <td>26.42</td>\n",
       "      <td>70.0</td>\n",
       "      <td>77.0</td>\n",
       "      <td>0</td>\n",
       "    </tr>\n",
       "  </tbody>\n",
       "</table>\n",
       "</div>"
      ],
      "text/plain": [
       "   id  age  education sex is_smoking  cigsPerDay  BPMeds  prevalentStroke  \\\n",
       "0   0   64        2.0   F        YES         3.0     0.0                0   \n",
       "1   1   36        4.0   M         NO         0.0     0.0                0   \n",
       "2   2   46        1.0   F        YES        10.0     0.0                0   \n",
       "3   3   50        1.0   M        YES        20.0     0.0                0   \n",
       "4   4   64        1.0   F        YES        30.0     0.0                0   \n",
       "\n",
       "   prevalentHyp  diabetes  totChol  sysBP  diaBP    BMI  heartRate  glucose  \\\n",
       "0             0         0    221.0  148.0   85.0    NaN       90.0     80.0   \n",
       "1             1         0    212.0  168.0   98.0  29.77       72.0     75.0   \n",
       "2             0         0    250.0  116.0   71.0  20.35       88.0     94.0   \n",
       "3             1         0    233.0  158.0   88.0  28.26       68.0     94.0   \n",
       "4             0         0    241.0  136.5   85.0  26.42       70.0     77.0   \n",
       "\n",
       "   TenYearCHD  \n",
       "0           1  \n",
       "1           0  \n",
       "2           0  \n",
       "3           1  \n",
       "4           0  "
      ]
     },
     "execution_count": 2,
     "metadata": {},
     "output_type": "execute_result"
    }
   ],
   "source": [
    "train = pd.read_csv('train.csv')\n",
    "train.head()"
   ]
  },
  {
   "cell_type": "markdown",
   "id": "fbf47814-bacd-4e6f-900d-40f2b2d5d2ca",
   "metadata": {
    "tags": []
   },
   "source": [
    "## Data Exploration"
   ]
  },
  {
   "cell_type": "code",
   "execution_count": 3,
   "id": "4da09165-155e-4328-a712-9301132aa2ad",
   "metadata": {},
   "outputs": [
    {
     "name": "stdout",
     "output_type": "stream",
     "text": [
      "<class 'pandas.core.frame.DataFrame'>\n",
      "RangeIndex: 3390 entries, 0 to 3389\n",
      "Data columns (total 17 columns):\n",
      " #   Column           Non-Null Count  Dtype  \n",
      "---  ------           --------------  -----  \n",
      " 0   id               3390 non-null   int64  \n",
      " 1   age              3390 non-null   int64  \n",
      " 2   education        3303 non-null   float64\n",
      " 3   sex              3390 non-null   object \n",
      " 4   is_smoking       3390 non-null   object \n",
      " 5   cigsPerDay       3368 non-null   float64\n",
      " 6   BPMeds           3346 non-null   float64\n",
      " 7   prevalentStroke  3390 non-null   int64  \n",
      " 8   prevalentHyp     3390 non-null   int64  \n",
      " 9   diabetes         3390 non-null   int64  \n",
      " 10  totChol          3352 non-null   float64\n",
      " 11  sysBP            3390 non-null   float64\n",
      " 12  diaBP            3390 non-null   float64\n",
      " 13  BMI              3376 non-null   float64\n",
      " 14  heartRate        3389 non-null   float64\n",
      " 15  glucose          3086 non-null   float64\n",
      " 16  TenYearCHD       3390 non-null   int64  \n",
      "dtypes: float64(9), int64(6), object(2)\n",
      "memory usage: 450.4+ KB\n"
     ]
    }
   ],
   "source": [
    "train.info()"
   ]
  },
  {
   "cell_type": "code",
   "execution_count": 4,
   "id": "d77fbede-f448-4d9e-8be4-2a77b7b10705",
   "metadata": {},
   "outputs": [
    {
     "data": {
      "text/html": [
       "<div>\n",
       "<style scoped>\n",
       "    .dataframe tbody tr th:only-of-type {\n",
       "        vertical-align: middle;\n",
       "    }\n",
       "\n",
       "    .dataframe tbody tr th {\n",
       "        vertical-align: top;\n",
       "    }\n",
       "\n",
       "    .dataframe thead th {\n",
       "        text-align: right;\n",
       "    }\n",
       "</style>\n",
       "<table border=\"1\" class=\"dataframe\">\n",
       "  <thead>\n",
       "    <tr style=\"text-align: right;\">\n",
       "      <th></th>\n",
       "      <th>id</th>\n",
       "      <th>age</th>\n",
       "      <th>education</th>\n",
       "      <th>cigsPerDay</th>\n",
       "      <th>BPMeds</th>\n",
       "      <th>prevalentStroke</th>\n",
       "      <th>prevalentHyp</th>\n",
       "      <th>diabetes</th>\n",
       "      <th>totChol</th>\n",
       "      <th>sysBP</th>\n",
       "      <th>diaBP</th>\n",
       "      <th>BMI</th>\n",
       "      <th>heartRate</th>\n",
       "      <th>glucose</th>\n",
       "      <th>TenYearCHD</th>\n",
       "    </tr>\n",
       "  </thead>\n",
       "  <tbody>\n",
       "    <tr>\n",
       "      <th>count</th>\n",
       "      <td>3390.000000</td>\n",
       "      <td>3390.000000</td>\n",
       "      <td>3303.000000</td>\n",
       "      <td>3368.000000</td>\n",
       "      <td>3346.000000</td>\n",
       "      <td>3390.000000</td>\n",
       "      <td>3390.000000</td>\n",
       "      <td>3390.000000</td>\n",
       "      <td>3352.000000</td>\n",
       "      <td>3390.00000</td>\n",
       "      <td>3390.000000</td>\n",
       "      <td>3376.000000</td>\n",
       "      <td>3389.000000</td>\n",
       "      <td>3086.000000</td>\n",
       "      <td>3390.000000</td>\n",
       "    </tr>\n",
       "    <tr>\n",
       "      <th>mean</th>\n",
       "      <td>1694.500000</td>\n",
       "      <td>49.542183</td>\n",
       "      <td>1.970936</td>\n",
       "      <td>9.069477</td>\n",
       "      <td>0.029886</td>\n",
       "      <td>0.006490</td>\n",
       "      <td>0.315339</td>\n",
       "      <td>0.025664</td>\n",
       "      <td>237.074284</td>\n",
       "      <td>132.60118</td>\n",
       "      <td>82.883038</td>\n",
       "      <td>25.794964</td>\n",
       "      <td>75.977279</td>\n",
       "      <td>82.086520</td>\n",
       "      <td>0.150737</td>\n",
       "    </tr>\n",
       "    <tr>\n",
       "      <th>std</th>\n",
       "      <td>978.753033</td>\n",
       "      <td>8.592878</td>\n",
       "      <td>1.019081</td>\n",
       "      <td>11.879078</td>\n",
       "      <td>0.170299</td>\n",
       "      <td>0.080309</td>\n",
       "      <td>0.464719</td>\n",
       "      <td>0.158153</td>\n",
       "      <td>45.247430</td>\n",
       "      <td>22.29203</td>\n",
       "      <td>12.023581</td>\n",
       "      <td>4.115449</td>\n",
       "      <td>11.971868</td>\n",
       "      <td>24.244753</td>\n",
       "      <td>0.357846</td>\n",
       "    </tr>\n",
       "    <tr>\n",
       "      <th>min</th>\n",
       "      <td>0.000000</td>\n",
       "      <td>32.000000</td>\n",
       "      <td>1.000000</td>\n",
       "      <td>0.000000</td>\n",
       "      <td>0.000000</td>\n",
       "      <td>0.000000</td>\n",
       "      <td>0.000000</td>\n",
       "      <td>0.000000</td>\n",
       "      <td>107.000000</td>\n",
       "      <td>83.50000</td>\n",
       "      <td>48.000000</td>\n",
       "      <td>15.960000</td>\n",
       "      <td>45.000000</td>\n",
       "      <td>40.000000</td>\n",
       "      <td>0.000000</td>\n",
       "    </tr>\n",
       "    <tr>\n",
       "      <th>25%</th>\n",
       "      <td>847.250000</td>\n",
       "      <td>42.000000</td>\n",
       "      <td>1.000000</td>\n",
       "      <td>0.000000</td>\n",
       "      <td>0.000000</td>\n",
       "      <td>0.000000</td>\n",
       "      <td>0.000000</td>\n",
       "      <td>0.000000</td>\n",
       "      <td>206.000000</td>\n",
       "      <td>117.00000</td>\n",
       "      <td>74.500000</td>\n",
       "      <td>23.020000</td>\n",
       "      <td>68.000000</td>\n",
       "      <td>71.000000</td>\n",
       "      <td>0.000000</td>\n",
       "    </tr>\n",
       "    <tr>\n",
       "      <th>50%</th>\n",
       "      <td>1694.500000</td>\n",
       "      <td>49.000000</td>\n",
       "      <td>2.000000</td>\n",
       "      <td>0.000000</td>\n",
       "      <td>0.000000</td>\n",
       "      <td>0.000000</td>\n",
       "      <td>0.000000</td>\n",
       "      <td>0.000000</td>\n",
       "      <td>234.000000</td>\n",
       "      <td>128.50000</td>\n",
       "      <td>82.000000</td>\n",
       "      <td>25.380000</td>\n",
       "      <td>75.000000</td>\n",
       "      <td>78.000000</td>\n",
       "      <td>0.000000</td>\n",
       "    </tr>\n",
       "    <tr>\n",
       "      <th>75%</th>\n",
       "      <td>2541.750000</td>\n",
       "      <td>56.000000</td>\n",
       "      <td>3.000000</td>\n",
       "      <td>20.000000</td>\n",
       "      <td>0.000000</td>\n",
       "      <td>0.000000</td>\n",
       "      <td>1.000000</td>\n",
       "      <td>0.000000</td>\n",
       "      <td>264.000000</td>\n",
       "      <td>144.00000</td>\n",
       "      <td>90.000000</td>\n",
       "      <td>28.040000</td>\n",
       "      <td>83.000000</td>\n",
       "      <td>87.000000</td>\n",
       "      <td>0.000000</td>\n",
       "    </tr>\n",
       "    <tr>\n",
       "      <th>max</th>\n",
       "      <td>3389.000000</td>\n",
       "      <td>70.000000</td>\n",
       "      <td>4.000000</td>\n",
       "      <td>70.000000</td>\n",
       "      <td>1.000000</td>\n",
       "      <td>1.000000</td>\n",
       "      <td>1.000000</td>\n",
       "      <td>1.000000</td>\n",
       "      <td>696.000000</td>\n",
       "      <td>295.00000</td>\n",
       "      <td>142.500000</td>\n",
       "      <td>56.800000</td>\n",
       "      <td>143.000000</td>\n",
       "      <td>394.000000</td>\n",
       "      <td>1.000000</td>\n",
       "    </tr>\n",
       "  </tbody>\n",
       "</table>\n",
       "</div>"
      ],
      "text/plain": [
       "                id          age    education   cigsPerDay       BPMeds  \\\n",
       "count  3390.000000  3390.000000  3303.000000  3368.000000  3346.000000   \n",
       "mean   1694.500000    49.542183     1.970936     9.069477     0.029886   \n",
       "std     978.753033     8.592878     1.019081    11.879078     0.170299   \n",
       "min       0.000000    32.000000     1.000000     0.000000     0.000000   \n",
       "25%     847.250000    42.000000     1.000000     0.000000     0.000000   \n",
       "50%    1694.500000    49.000000     2.000000     0.000000     0.000000   \n",
       "75%    2541.750000    56.000000     3.000000    20.000000     0.000000   \n",
       "max    3389.000000    70.000000     4.000000    70.000000     1.000000   \n",
       "\n",
       "       prevalentStroke  prevalentHyp     diabetes      totChol       sysBP  \\\n",
       "count      3390.000000   3390.000000  3390.000000  3352.000000  3390.00000   \n",
       "mean          0.006490      0.315339     0.025664   237.074284   132.60118   \n",
       "std           0.080309      0.464719     0.158153    45.247430    22.29203   \n",
       "min           0.000000      0.000000     0.000000   107.000000    83.50000   \n",
       "25%           0.000000      0.000000     0.000000   206.000000   117.00000   \n",
       "50%           0.000000      0.000000     0.000000   234.000000   128.50000   \n",
       "75%           0.000000      1.000000     0.000000   264.000000   144.00000   \n",
       "max           1.000000      1.000000     1.000000   696.000000   295.00000   \n",
       "\n",
       "             diaBP          BMI    heartRate      glucose   TenYearCHD  \n",
       "count  3390.000000  3376.000000  3389.000000  3086.000000  3390.000000  \n",
       "mean     82.883038    25.794964    75.977279    82.086520     0.150737  \n",
       "std      12.023581     4.115449    11.971868    24.244753     0.357846  \n",
       "min      48.000000    15.960000    45.000000    40.000000     0.000000  \n",
       "25%      74.500000    23.020000    68.000000    71.000000     0.000000  \n",
       "50%      82.000000    25.380000    75.000000    78.000000     0.000000  \n",
       "75%      90.000000    28.040000    83.000000    87.000000     0.000000  \n",
       "max     142.500000    56.800000   143.000000   394.000000     1.000000  "
      ]
     },
     "execution_count": 4,
     "metadata": {},
     "output_type": "execute_result"
    }
   ],
   "source": [
    "train.describe()"
   ]
  },
  {
   "cell_type": "code",
   "execution_count": 5,
   "id": "5631bc17-b834-40bb-9d8a-e2a655bde1c7",
   "metadata": {},
   "outputs": [
    {
     "data": {
      "text/plain": [
       "['education',\n",
       " 'BPMeds',\n",
       " 'prevalentStroke',\n",
       " 'prevalentHyp',\n",
       " 'diabetes',\n",
       " 'TenYearCHD']"
      ]
     },
     "execution_count": 5,
     "metadata": {},
     "output_type": "execute_result"
    }
   ],
   "source": [
    "cols_cat = ['education', 'BPMeds', 'prevalentStroke', 'prevalentHyp', 'diabetes', 'TenYearCHD']\n",
    "cols_cat"
   ]
  },
  {
   "cell_type": "code",
   "execution_count": 6,
   "id": "035aaab6-8bb2-48d4-8d58-636e1df5c1c5",
   "metadata": {},
   "outputs": [
    {
     "data": {
      "image/png": "[encoded data removed]",
      "text/plain": [
       "<Figure size 432x288 with 1 Axes>"
      ]
     },
     "metadata": {},
     "output_type": "display_data"
    },
    {
     "data": {
      "image/png": "[encoded data removed]",
      "text/plain": [
       "<Figure size 432x288 with 1 Axes>"
      ]
     },
     "metadata": {},
     "output_type": "display_data"
    },
    {
     "data": {
      "image/png": "[encoded data removed]",
      "text/plain": [
       "<Figure size 432x288 with 1 Axes>"
      ]
     },
     "metadata": {},
     "output_type": "display_data"
    },
    {
     "data": {
      "image/png": "[encoded data removed]",
      "text/plain": [
       "<Figure size 432x288 with 1 Axes>"
      ]
     },
     "metadata": {},
     "output_type": "display_data"
    },
    {
     "data": {
      "image/png": "[encoded data removed]",
      "text/plain": [
       "<Figure size 432x288 with 1 Axes>"
      ]
     },
     "metadata": {},
     "output_type": "display_data"
    },
    {
     "data": {
      "image/png": "[encoded data removed]",
      "text/plain": [
       "<Figure size 432x288 with 1 Axes>"
      ]
     },
     "metadata": {},
     "output_type": "display_data"
    }
   ],
   "source": [
    "for i in cols_cat:\n",
    "    plt.figure()\n",
    "    sns.countplot(x=train[i])"
   ]
  },
  {
   "cell_type": "code",
   "execution_count": 7,
   "id": "6054336d-6735-4103-950c-70da7b67cf38",
   "metadata": {},
   "outputs": [
    {
     "data": {
      "text/plain": [
       "['age',\n",
       " 'cigsPerDay',\n",
       " 'totChol',\n",
       " 'sysBP',\n",
       " 'diaBP',\n",
       " 'BMI',\n",
       " 'heartRate',\n",
       " 'glucose']"
      ]
     },
     "execution_count": 7,
     "metadata": {},
     "output_type": "execute_result"
    }
   ],
   "source": [
    "col = ['age', 'cigsPerDay', 'totChol', 'sysBP', 'diaBP', 'BMI', 'heartRate', 'glucose']\n",
    "col"
   ]
  },
  {
   "cell_type": "code",
   "execution_count": 8,
   "id": "f42368b8-13a1-4d09-a973-134d80da4e53",
   "metadata": {},
   "outputs": [
    {
     "data": {
      "image/png": "[encoded data removed]",
      "text/plain": [
       "<Figure size 432x288 with 1 Axes>"
      ]
     },
     "metadata": {},
     "output_type": "display_data"
    },
    {
     "data": {
      "image/png": "[encoded data removed]",
      "text/plain": [
       "<Figure size 432x288 with 1 Axes>"
      ]
     },
     "metadata": {},
     "output_type": "display_data"
    },
    {
     "data": {
      "image/png": "[encoded data removed]",
      "text/plain": [
       "<Figure size 432x288 with 1 Axes>"
      ]
     },
     "metadata": {},
     "output_type": "display_data"
    },
    {
     "data": {
      "image/png": "[encoded data removed]",
      "text/plain": [
       "<Figure size 432x288 with 1 Axes>"
      ]
     },
     "metadata": {},
     "output_type": "display_data"
    },
    {
     "data": {
      "image/png": "[encoded data removed]",
      "text/plain": [
       "<Figure size 432x288 with 1 Axes>"
      ]
     },
     "metadata": {},
     "output_type": "display_data"
    },
    {
     "data": {
      "image/png": "[encoded data removed]",
      "text/plain": [
       "<Figure size 432x288 with 1 Axes>"
      ]
     },
     "metadata": {},
     "output_type": "display_data"
    },
    {
     "data": {
      "image/png": "[encoded data removed]",
      "text/plain": [
       "<Figure size 432x288 with 1 Axes>"
      ]
     },
     "metadata": {},
     "output_type": "display_data"
    },
    {
     "data": {
      "image/png": "[encoded data removed]",
      "text/plain": [
       "<Figure size 432x288 with 1 Axes>"
      ]
     },
     "metadata": {},
     "output_type": "display_data"
    }
   ],
   "source": [
    "for i in col:\n",
    "    plt.figure()\n",
    "    sns.histplot(data=train, x=i)"
   ]
  },
  {
   "cell_type": "markdown",
   "id": "073357de-4ddd-49eb-8a7d-3a262548cb67",
   "metadata": {
    "tags": []
   },
   "source": [
    "## Missing Value"
   ]
  },
  {
   "cell_type": "code",
   "execution_count": 9,
   "id": "67f69ebd-7bc6-40e4-960b-7fc3d1bba662",
   "metadata": {},
   "outputs": [
    {
     "data": {
      "text/plain": [
       "id                   0\n",
       "age                  0\n",
       "education           87\n",
       "sex                  0\n",
       "is_smoking           0\n",
       "cigsPerDay          22\n",
       "BPMeds              44\n",
       "prevalentStroke      0\n",
       "prevalentHyp         0\n",
       "diabetes             0\n",
       "totChol             38\n",
       "sysBP                0\n",
       "diaBP                0\n",
       "BMI                 14\n",
       "heartRate            1\n",
       "glucose            304\n",
       "TenYearCHD           0\n",
       "dtype: int64"
      ]
     },
     "execution_count": 9,
     "metadata": {},
     "output_type": "execute_result"
    }
   ],
   "source": [
    "train.isna().sum()"
   ]
  },
  {
   "cell_type": "code",
   "execution_count": 10,
   "id": "9baa4b43-a6b7-40dc-8cbe-ad3690f8666e",
   "metadata": {},
   "outputs": [],
   "source": [
    "from sklearn.impute import SimpleImputer\n",
    "imputer = SimpleImputer(missing_values=np.NaN, strategy='most_frequent')\n",
    "\n",
    "train.education = imputer.fit_transform(train['education'].values.reshape(-1,1))[:,0]\n",
    "train.BPMeds = imputer.fit_transform(train['BPMeds'].values.reshape(-1,1))[:,0]"
   ]
  },
  {
   "cell_type": "code",
   "execution_count": 11,
   "id": "2e61ce0e-1ffb-4d4e-9240-7d8138fce280",
   "metadata": {},
   "outputs": [],
   "source": [
    "imputer = imputer = SimpleImputer(missing_values=np.NaN, strategy='mean')\n",
    "\n",
    "train.cigsPerDay = imputer.fit_transform(train['cigsPerDay'].values.reshape(-1,1))[:,0]\n",
    "train.totChol = imputer.fit_transform(train['totChol'].values.reshape(-1,1))[:,0]\n",
    "train.BMI = imputer.fit_transform(train['BMI'].values.reshape(-1,1))[:,0]\n",
    "train.heartRate = imputer.fit_transform(train['heartRate'].values.reshape(-1,1))[:,0]\n",
    "train.glucose = imputer.fit_transform(train['glucose'].values.reshape(-1,1))[:,0]"
   ]
  },
  {
   "cell_type": "code",
   "execution_count": 12,
   "id": "6596f6c8-33d8-4635-8548-7032c43f663c",
   "metadata": {},
   "outputs": [
    {
     "data": {
      "text/plain": [
       "id                 0\n",
       "age                0\n",
       "education          0\n",
       "sex                0\n",
       "is_smoking         0\n",
       "cigsPerDay         0\n",
       "BPMeds             0\n",
       "prevalentStroke    0\n",
       "prevalentHyp       0\n",
       "diabetes           0\n",
       "totChol            0\n",
       "sysBP              0\n",
       "diaBP              0\n",
       "BMI                0\n",
       "heartRate          0\n",
       "glucose            0\n",
       "TenYearCHD         0\n",
       "dtype: int64"
      ]
     },
     "execution_count": 12,
     "metadata": {},
     "output_type": "execute_result"
    }
   ],
   "source": [
    "train.isna().sum()"
   ]
  },
  {
   "cell_type": "markdown",
   "id": "026080a4-f953-41dc-a38a-e301d76a0070",
   "metadata": {
    "tags": []
   },
   "source": [
    "## Data Cleaning"
   ]
  },
  {
   "cell_type": "code",
   "execution_count": 13,
   "id": "dae5af7c-4f3a-4dfe-8abc-4b1c413bd959",
   "metadata": {},
   "outputs": [],
   "source": [
    "train = train.drop(['id'], axis=1)"
   ]
  },
  {
   "cell_type": "markdown",
   "id": "8016944a-7b82-448f-8a65-43f99764b43e",
   "metadata": {},
   "source": [
    "## sum(train.duplicated())"
   ]
  },
  {
   "cell_type": "markdown",
   "id": "e01e42fd-db64-4299-860f-bf8615380298",
   "metadata": {
    "tags": []
   },
   "source": [
    "## Label Encoding"
   ]
  },
  {
   "cell_type": "code",
   "execution_count": 15,
   "id": "a9e54a00-3fdd-4f4d-a242-4889e326c2eb",
   "metadata": {},
   "outputs": [
    {
     "data": {
      "text/plain": [
       "['sex', 'is_smoking']"
      ]
     },
     "execution_count": 15,
     "metadata": {},
     "output_type": "execute_result"
    }
   ],
   "source": [
    "cat_columns = train.columns[(train.dtypes =='object').values].tolist()\n",
    "cat_columns"
   ]
  },
  {
   "cell_type": "code",
   "execution_count": 16,
   "id": "0d256337-cce6-413c-8af4-2e3a0623f413",
   "metadata": {},
   "outputs": [
    {
     "data": {
      "text/html": [
       "<div>\n",
       "<style scoped>\n",
       "    .dataframe tbody tr th:only-of-type {\n",
       "        vertical-align: middle;\n",
       "    }\n",
       "\n",
       "    .dataframe tbody tr th {\n",
       "        vertical-align: top;\n",
       "    }\n",
       "\n",
       "    .dataframe thead th {\n",
       "        text-align: right;\n",
       "    }\n",
       "</style>\n",
       "<table border=\"1\" class=\"dataframe\">\n",
       "  <thead>\n",
       "    <tr style=\"text-align: right;\">\n",
       "      <th></th>\n",
       "      <th>age</th>\n",
       "      <th>education</th>\n",
       "      <th>sex</th>\n",
       "      <th>is_smoking</th>\n",
       "      <th>cigsPerDay</th>\n",
       "      <th>BPMeds</th>\n",
       "      <th>prevalentStroke</th>\n",
       "      <th>prevalentHyp</th>\n",
       "      <th>diabetes</th>\n",
       "      <th>totChol</th>\n",
       "      <th>sysBP</th>\n",
       "      <th>diaBP</th>\n",
       "      <th>BMI</th>\n",
       "      <th>heartRate</th>\n",
       "      <th>glucose</th>\n",
       "      <th>TenYearCHD</th>\n",
       "    </tr>\n",
       "  </thead>\n",
       "  <tbody>\n",
       "    <tr>\n",
       "      <th>0</th>\n",
       "      <td>64</td>\n",
       "      <td>2.0</td>\n",
       "      <td>0</td>\n",
       "      <td>1</td>\n",
       "      <td>3.0</td>\n",
       "      <td>0.0</td>\n",
       "      <td>0</td>\n",
       "      <td>0</td>\n",
       "      <td>0</td>\n",
       "      <td>221.0</td>\n",
       "      <td>148.0</td>\n",
       "      <td>85.0</td>\n",
       "      <td>25.794964</td>\n",
       "      <td>90.0</td>\n",
       "      <td>80.0</td>\n",
       "      <td>1</td>\n",
       "    </tr>\n",
       "    <tr>\n",
       "      <th>1</th>\n",
       "      <td>36</td>\n",
       "      <td>4.0</td>\n",
       "      <td>1</td>\n",
       "      <td>0</td>\n",
       "      <td>0.0</td>\n",
       "      <td>0.0</td>\n",
       "      <td>0</td>\n",
       "      <td>1</td>\n",
       "      <td>0</td>\n",
       "      <td>212.0</td>\n",
       "      <td>168.0</td>\n",
       "      <td>98.0</td>\n",
       "      <td>29.770000</td>\n",
       "      <td>72.0</td>\n",
       "      <td>75.0</td>\n",
       "      <td>0</td>\n",
       "    </tr>\n",
       "    <tr>\n",
       "      <th>2</th>\n",
       "      <td>46</td>\n",
       "      <td>1.0</td>\n",
       "      <td>0</td>\n",
       "      <td>1</td>\n",
       "      <td>10.0</td>\n",
       "      <td>0.0</td>\n",
       "      <td>0</td>\n",
       "      <td>0</td>\n",
       "      <td>0</td>\n",
       "      <td>250.0</td>\n",
       "      <td>116.0</td>\n",
       "      <td>71.0</td>\n",
       "      <td>20.350000</td>\n",
       "      <td>88.0</td>\n",
       "      <td>94.0</td>\n",
       "      <td>0</td>\n",
       "    </tr>\n",
       "    <tr>\n",
       "      <th>3</th>\n",
       "      <td>50</td>\n",
       "      <td>1.0</td>\n",
       "      <td>1</td>\n",
       "      <td>1</td>\n",
       "      <td>20.0</td>\n",
       "      <td>0.0</td>\n",
       "      <td>0</td>\n",
       "      <td>1</td>\n",
       "      <td>0</td>\n",
       "      <td>233.0</td>\n",
       "      <td>158.0</td>\n",
       "      <td>88.0</td>\n",
       "      <td>28.260000</td>\n",
       "      <td>68.0</td>\n",
       "      <td>94.0</td>\n",
       "      <td>1</td>\n",
       "    </tr>\n",
       "    <tr>\n",
       "      <th>4</th>\n",
       "      <td>64</td>\n",
       "      <td>1.0</td>\n",
       "      <td>0</td>\n",
       "      <td>1</td>\n",
       "      <td>30.0</td>\n",
       "      <td>0.0</td>\n",
       "      <td>0</td>\n",
       "      <td>0</td>\n",
       "      <td>0</td>\n",
       "      <td>241.0</td>\n",
       "      <td>136.5</td>\n",
       "      <td>85.0</td>\n",
       "      <td>26.420000</td>\n",
       "      <td>70.0</td>\n",
       "      <td>77.0</td>\n",
       "      <td>0</td>\n",
       "    </tr>\n",
       "  </tbody>\n",
       "</table>\n",
       "</div>"
      ],
      "text/plain": [
       "   age  education  sex  is_smoking  cigsPerDay  BPMeds  prevalentStroke  \\\n",
       "0   64        2.0    0           1         3.0     0.0                0   \n",
       "1   36        4.0    1           0         0.0     0.0                0   \n",
       "2   46        1.0    0           1        10.0     0.0                0   \n",
       "3   50        1.0    1           1        20.0     0.0                0   \n",
       "4   64        1.0    0           1        30.0     0.0                0   \n",
       "\n",
       "   prevalentHyp  diabetes  totChol  sysBP  diaBP        BMI  heartRate  \\\n",
       "0             0         0    221.0  148.0   85.0  25.794964       90.0   \n",
       "1             1         0    212.0  168.0   98.0  29.770000       72.0   \n",
       "2             0         0    250.0  116.0   71.0  20.350000       88.0   \n",
       "3             1         0    233.0  158.0   88.0  28.260000       68.0   \n",
       "4             0         0    241.0  136.5   85.0  26.420000       70.0   \n",
       "\n",
       "   glucose  TenYearCHD  \n",
       "0     80.0           1  \n",
       "1     75.0           0  \n",
       "2     94.0           0  \n",
       "3     94.0           1  \n",
       "4     77.0           0  "
      ]
     },
     "execution_count": 16,
     "metadata": {},
     "output_type": "execute_result"
    }
   ],
   "source": [
    "from sklearn.preprocessing import LabelEncoder\n",
    "\n",
    "for col in cat_columns:\n",
    "        train[col] = LabelEncoder().fit_transform(train[col])\n",
    "train.head() "
   ]
  },
  {
   "cell_type": "markdown",
   "id": "da93b9f0-c02d-4280-ac70-18d4fd8d1213",
   "metadata": {
    "tags": []
   },
   "source": [
    "## Feature Selection"
   ]
  },
  {
   "cell_type": "code",
   "execution_count": 17,
   "id": "350c8fa0-ac1c-4eb5-b785-ad1b643d370d",
   "metadata": {},
   "outputs": [],
   "source": [
    "X = train.drop(['TenYearCHD'], axis=1)\n",
    "y = train['TenYearCHD']"
   ]
  },
  {
   "cell_type": "code",
   "execution_count": 18,
   "id": "31c65390-68ff-4c23-93e2-fe53ce5eef6d",
   "metadata": {},
   "outputs": [],
   "source": [
    "from sklearn.preprocessing import MinMaxScaler\n",
    "\n",
    "min_max_scaler = MinMaxScaler()\n",
    "X_minmax = min_max_scaler.fit_transform(X)"
   ]
  },
  {
   "cell_type": "code",
   "execution_count": 19,
   "id": "f4698819-e35b-4ddf-8a16-85c25e869a0e",
   "metadata": {},
   "outputs": [
    {
     "data": {
      "text/plain": [
       "array([[0.84210526, 0.33333333, 0.        , ..., 0.24081696, 0.45918367,\n",
       "        0.11299435],\n",
       "       [0.10526316, 1.        , 1.        , ..., 0.33814887, 0.2755102 ,\n",
       "        0.09887006],\n",
       "       [0.36842105, 0.        , 0.        , ..., 0.10749265, 0.43877551,\n",
       "        0.15254237],\n",
       "       ...,\n",
       "       [0.31578947, 0.66666667, 1.        , ..., 0.31733595, 0.28571429,\n",
       "        0.09039548],\n",
       "       [0.73684211, 0.        , 1.        , ..., 0.17262488, 0.35714286,\n",
       "        0.12711864],\n",
       "       [0.57894737, 0.66666667, 0.        , ..., 0.34084231, 0.34693878,\n",
       "        0.14689266]])"
      ]
     },
     "execution_count": 19,
     "metadata": {},
     "output_type": "execute_result"
    }
   ],
   "source": [
    "X_minmax"
   ]
  },
  {
   "cell_type": "code",
   "execution_count": 67,
   "id": "a39d1a82-18a9-41ef-bfa2-79b2ce16c869",
   "metadata": {},
   "outputs": [],
   "source": [
    "from sklearn.model_selection import train_test_split\n",
    "\n",
    "X_train, X_test, y_train, y_test = train_test_split(X, y, test_size=0.2, random_state=4)"
   ]
  },
  {
   "cell_type": "code",
   "execution_count": 58,
   "id": "0fddd8cd-b7e9-4a75-b547-65c1e87e75ff",
   "metadata": {},
   "outputs": [],
   "source": [
    "from sklearn.metrics import classification_report, accuracy_score, confusion_matrix\n",
    "from sklearn.metrics import accuracy_score, confusion_matrix, roc_auc_score, roc_curve"
   ]
  },
  {
   "cell_type": "markdown",
   "id": "f1c09cdf-71ff-44bb-b311-d1aa85b71c24",
   "metadata": {
    "tags": []
   },
   "source": [
    "# Training Models"
   ]
  },
  {
   "cell_type": "code",
   "execution_count": 55,
   "id": "b846e6a3-7576-4589-93af-6bbc82208672",
   "metadata": {},
   "outputs": [],
   "source": [
    "def plot_roc_curve(true_y, y_prob):\n",
    "    \"\"\"\n",
    "    plots the roc curve based of the probabilities\n",
    "    \"\"\"\n",
    "\n",
    "    fpr, tpr, thresholds = roc_curve(true_y, y_prob)\n",
    "    plt.plot(fpr, tpr)\n",
    "    plt.xlabel('False Positive Rate')\n",
    "    plt.ylabel('True Positive Rate')"
   ]
  },
  {
   "cell_type": "markdown",
   "id": "b51576be-72de-4794-a22e-754de324acf0",
   "metadata": {
    "tags": []
   },
   "source": [
    "## Decision Tree"
   ]
  },
  {
   "cell_type": "code",
   "execution_count": 68,
   "id": "a079a78e-9729-414d-b20f-f16824e308be",
   "metadata": {},
   "outputs": [
    {
     "name": "stdout",
     "output_type": "stream",
     "text": [
      "Decision Tree Model Accuracy :  74.48377581120944 %\n",
      "\n",
      "Confusion matrix :\n",
      "[[485 103]\n",
      " [ 70  20]]\n",
      "\n",
      "Classification report:\n",
      "              precision    recall  f1-score   support\n",
      "\n",
      "           0       0.87      0.82      0.85       588\n",
      "           1       0.16      0.22      0.19        90\n",
      "\n",
      "    accuracy                           0.74       678\n",
      "   macro avg       0.52      0.52      0.52       678\n",
      "weighted avg       0.78      0.74      0.76       678\n",
      "\n"
     ]
    }
   ],
   "source": [
    "from sklearn.tree import DecisionTreeClassifier\n",
    "\n",
    "dtc = DecisionTreeClassifier()\n",
    "dtc.fit(X_train, y_train)\n",
    "\n",
    "print('Decision Tree Model Accuracy : ', dtc.score(X_test, y_test)*100, '%')\n",
    "\n",
    "prediction = dtc.predict(X_test)\n",
    "print('\\nConfusion matrix :')\n",
    "print(confusion_matrix(y_test, prediction))\n",
    "      \n",
    "print('\\nClassification report:')      \n",
    "print(classification_report(y_test, prediction))"
   ]
  },
  {
   "cell_type": "code",
   "execution_count": 69,
   "id": "13bb83cf-c666-47e9-ada1-bbb5aab9a70b",
   "metadata": {},
   "outputs": [],
   "source": [
    "y_lr_predict_pro=dtc.predict_proba(X_test)[:,1]"
   ]
  },
  {
   "cell_type": "code",
   "execution_count": 70,
   "id": "e423fefd-be30-49eb-9f5b-1ecf8598a309",
   "metadata": {},
   "outputs": [
    {
     "data": {
      "text/plain": [
       "0.5235260770975058"
      ]
     },
     "execution_count": 70,
     "metadata": {},
     "output_type": "execute_result"
    },
    {
     "data": {
      "image/png": "[encoded data removed]",
      "text/plain": [
       "<Figure size 432x288 with 1 Axes>"
      ]
     },
     "metadata": {},
     "output_type": "display_data"
    }
   ],
   "source": [
    "plot_roc_curve(y_test, y_lr_predict_pro)\n",
    "roc_auc_score(y_test,y_lr_predict_pro)"
   ]
  },
  {
   "cell_type": "markdown",
   "id": "45871df2-ebc0-41f2-8897-b645b99d2f95",
   "metadata": {
    "tags": []
   },
   "source": [
    "## XGBoost"
   ]
  },
  {
   "cell_type": "code",
   "execution_count": 71,
   "id": "de50b0c0-87b5-49be-87e3-3ba646a9d7b2",
   "metadata": {},
   "outputs": [
    {
     "name": "stdout",
     "output_type": "stream",
     "text": [
      "XGBoost Model Accuracy :  85.84070796460178 %\n",
      "\n",
      "Confusion matrix :\n",
      "[[567  21]\n",
      " [ 75  15]]\n",
      "\n",
      "Classification report:\n",
      "              precision    recall  f1-score   support\n",
      "\n",
      "           0       0.88      0.96      0.92       588\n",
      "           1       0.42      0.17      0.24        90\n",
      "\n",
      "    accuracy                           0.86       678\n",
      "   macro avg       0.65      0.57      0.58       678\n",
      "weighted avg       0.82      0.86      0.83       678\n",
      "\n"
     ]
    }
   ],
   "source": [
    "from xgboost import XGBClassifier\n",
    "\n",
    "XGB_model = XGBClassifier()\n",
    "\n",
    "XGB_model.fit(X_train, y_train)\n",
    "\n",
    "print('XGBoost Model Accuracy : ', XGB_model.score(X_test, y_test)*100, '%')\n",
    "\n",
    "prediction = XGB_model.predict(X_test)\n",
    "print('\\nConfusion matrix :')\n",
    "print(confusion_matrix(y_test, prediction))\n",
    "      \n",
    "print('\\nClassification report:')      \n",
    "print(classification_report(y_test, prediction))"
   ]
  },
  {
   "cell_type": "code",
   "execution_count": 72,
   "id": "5586c461-2094-405d-91ba-a0442c000176",
   "metadata": {},
   "outputs": [],
   "source": [
    "y_lr_predict_pro=XGB_model.predict_proba(X_test)[:,1]"
   ]
  },
  {
   "cell_type": "code",
   "execution_count": 73,
   "id": "7d6db55d-e874-4c4e-b3ee-9a51f531231c",
   "metadata": {},
   "outputs": [
    {
     "data": {
      "text/plain": [
       "0.6171201814058956"
      ]
     },
     "execution_count": 73,
     "metadata": {},
     "output_type": "execute_result"
    },
    {
     "data": {
      "image/png": "[encoded data removed]",
      "text/plain": [
       "<Figure size 432x288 with 1 Axes>"
      ]
     },
     "metadata": {},
     "output_type": "display_data"
    }
   ],
   "source": [
    "plot_roc_curve(y_test, y_lr_predict_pro)\n",
    "roc_auc_score(y_test,y_lr_predict_pro)"
   ]
  },
  {
   "cell_type": "markdown",
   "id": "00dc7ed9-76fc-4f85-a3e7-0cd2d7863fdd",
   "metadata": {
    "tags": []
   },
   "source": [
    "## Logistic Regression"
   ]
  },
  {
   "cell_type": "code",
   "execution_count": 74,
   "id": "b2a9dfd1-0c82-4bb2-974b-c09d389cb29e",
   "metadata": {},
   "outputs": [
    {
     "name": "stdout",
     "output_type": "stream",
     "text": [
      "Logistic Model Accuracy :  87.75811209439527 %\n",
      "\n",
      "Confusion matrix :\n",
      "[[588   0]\n",
      " [ 83   7]]\n",
      "\n",
      "Classification report:\n",
      "              precision    recall  f1-score   support\n",
      "\n",
      "           0       0.88      1.00      0.93       588\n",
      "           1       1.00      0.08      0.14        90\n",
      "\n",
      "    accuracy                           0.88       678\n",
      "   macro avg       0.94      0.54      0.54       678\n",
      "weighted avg       0.89      0.88      0.83       678\n",
      "\n"
     ]
    }
   ],
   "source": [
    "from sklearn.linear_model import LogisticRegression\n",
    "\n",
    "log = LogisticRegression(fit_intercept=True, max_iter=10000)\n",
    "log.fit(X_train, y_train)\n",
    "\n",
    "print('Logistic Model Accuracy : ', log.score(X_test, y_test)*100, '%')\n",
    "\n",
    "prediction = log.predict(X_test)\n",
    "print('\\nConfusion matrix :')\n",
    "print(confusion_matrix(y_test, prediction))\n",
    "      \n",
    "print('\\nClassification report:')      \n",
    "print(classification_report(y_test, prediction))"
   ]
  },
  {
   "cell_type": "code",
   "execution_count": 75,
   "id": "18a11de8-5399-4651-9637-30738e3f550c",
   "metadata": {},
   "outputs": [],
   "source": [
    "y_lr_predict_pro=log.predict_proba(X_test)[:,1]"
   ]
  },
  {
   "cell_type": "code",
   "execution_count": 76,
   "id": "4d393605-5ea0-416f-8b0d-8b2ef2de039e",
   "metadata": {},
   "outputs": [
    {
     "data": {
      "text/plain": [
       "0.7265117157974301"
      ]
     },
     "execution_count": 76,
     "metadata": {},
     "output_type": "execute_result"
    },
    {
     "data": {
      "image/png": "[encoded data removed]",
      "text/plain": [
       "<Figure size 432x288 with 1 Axes>"
      ]
     },
     "metadata": {},
     "output_type": "display_data"
    }
   ],
   "source": [
    "plot_roc_curve(y_test, y_lr_predict_pro)\n",
    "roc_auc_score(y_test,y_lr_predict_pro)"
   ]
  },
  {
   "cell_type": "markdown",
   "id": "79c4aac8-8b0d-4225-a2e5-3e9e8945d9a1",
   "metadata": {
    "jp-MarkdownHeadingCollapsed": true,
    "tags": []
   },
   "source": [
    "## Random Forest Classifier"
   ]
  },
  {
   "cell_type": "code",
   "execution_count": 28,
   "id": "fae75902-f372-4b45-a318-34a9a8391ae1",
   "metadata": {},
   "outputs": [
    {
     "name": "stdout",
     "output_type": "stream",
     "text": [
      "Random Forest Model Accuracy :  87.16814159292035 %\n",
      "\n",
      "Confusion matrix :\n",
      "[[585   3]\n",
      " [ 84   6]]\n",
      "\n",
      "Classification report:\n",
      "              precision    recall  f1-score   support\n",
      "\n",
      "           0       0.87      0.99      0.93       588\n",
      "           1       0.67      0.07      0.12        90\n",
      "\n",
      "    accuracy                           0.87       678\n",
      "   macro avg       0.77      0.53      0.53       678\n",
      "weighted avg       0.85      0.87      0.82       678\n",
      "\n"
     ]
    }
   ],
   "source": [
    "from sklearn.ensemble import RandomForestClassifier\n",
    "\n",
    "rfc = RandomForestClassifier()\n",
    "rfc.fit(X_train, y_train)\n",
    "\n",
    "print('Random Forest Model Accuracy : ', rfc.score(X_test, y_test)*100, '%')\n",
    "\n",
    "prediction = rfc.predict(X_test)\n",
    "print('\\nConfusion matrix :')\n",
    "print(confusion_matrix(y_test, prediction))\n",
    "      \n",
    "print('\\nClassification report:')      \n",
    "print(classification_report(y_test, prediction))"
   ]
  },
  {
   "cell_type": "code",
   "execution_count": 29,
   "id": "cf3f09fc-7df2-43fe-84d3-f7dd6b9d63e9",
   "metadata": {},
   "outputs": [
    {
     "data": {
      "text/plain": [
       "0.6609315948601663"
      ]
     },
     "execution_count": 29,
     "metadata": {},
     "output_type": "execute_result"
    }
   ],
   "source": [
    "y_lr_predict_pro=rfc.predict_proba(X_test)[:,1]\n",
    "roc_auc_score(y_test,y_lr_predict_pro)"
   ]
  },
  {
   "cell_type": "markdown",
   "id": "703480c0-fa87-41ae-b0d9-38b99fbea98e",
   "metadata": {
    "jp-MarkdownHeadingCollapsed": true,
    "tags": []
   },
   "source": [
    "## Cat Boost"
   ]
  },
  {
   "cell_type": "code",
   "execution_count": 30,
   "id": "5181a82e-027a-45e1-bd0a-f66e5ae563d8",
   "metadata": {},
   "outputs": [
    {
     "name": "stdout",
     "output_type": "stream",
     "text": [
      "CatBoost Model Accuracy :  86.4306784660767 %\n",
      "\n",
      "Confusion matrix :\n",
      "[[577  11]\n",
      " [ 81   9]]\n",
      "\n",
      "Classification report:\n",
      "              precision    recall  f1-score   support\n",
      "\n",
      "           0       0.88      0.98      0.93       588\n",
      "           1       0.45      0.10      0.16        90\n",
      "\n",
      "    accuracy                           0.86       678\n",
      "   macro avg       0.66      0.54      0.54       678\n",
      "weighted avg       0.82      0.86      0.82       678\n",
      "\n"
     ]
    }
   ],
   "source": [
    "from catboost import CatBoostClassifier\n",
    "\n",
    "ctb_model = CatBoostClassifier(verbose=0, n_estimators=400)\n",
    "\n",
    "ctb_model.fit(X_train, y_train)\n",
    "\n",
    "print('CatBoost Model Accuracy : ', ctb_model.score(X_test, y_test)*100, '%')\n",
    "\n",
    "prediction = ctb_model.predict(X_test)\n",
    "print('\\nConfusion matrix :')\n",
    "print(confusion_matrix(y_test, prediction))\n",
    "      \n",
    "print('\\nClassification report:')      \n",
    "print(classification_report(y_test, prediction))"
   ]
  },
  {
   "cell_type": "code",
   "execution_count": 31,
   "id": "1b1fa6d5-4aef-4cc6-ac94-a7c0f3f63c46",
   "metadata": {},
   "outputs": [
    {
     "data": {
      "text/plain": [
       "0.6869047619047618"
      ]
     },
     "execution_count": 31,
     "metadata": {},
     "output_type": "execute_result"
    }
   ],
   "source": [
    "y_lr_predict_pro=ctb_model.predict_proba(X_test)[:,1]\n",
    "roc_auc_score(y_test,y_lr_predict_pro)"
   ]
  },
  {
   "cell_type": "code",
   "execution_count": null,
   "id": "762291be-a12c-4e91-808a-f60902924f7e",
   "metadata": {},
   "outputs": [],
   "source": []
  }
 ],
 "metadata": {
  "kernelspec": {
   "display_name": "Python 3 (ipykernel)",
   "language": "python",
   "name": "python3"
  },
  "language_info": {
   "codemirror_mode": {
    "name": "ipython",
    "version": 3
   },
   "file_extension": ".py",
   "mimetype": "text/x-python",
   "name": "python",
   "nbconvert_exporter": "python",
   "pygments_lexer": "ipython3",
   "version": "3.9.12"
  },
  "toc-showcode": true
 },
 "nbformat": 4,
 "nbformat_minor": 5
}
